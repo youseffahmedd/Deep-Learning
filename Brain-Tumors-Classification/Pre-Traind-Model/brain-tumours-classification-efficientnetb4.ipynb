{
 "cells": [
  {
   "cell_type": "markdown",
   "id": "0f9262fd",
   "metadata": {
    "papermill": {
     "duration": 0.005239,
     "end_time": "2024-10-28T09:07:25.041653",
     "exception": false,
     "start_time": "2024-10-28T09:07:25.036414",
     "status": "completed"
    },
    "tags": []
   },
   "source": [
    "# Import Needed Libraries"
   ]
  },
  {
   "cell_type": "code",
   "execution_count": 1,
   "id": "ec0d6cd5",
   "metadata": {
    "execution": {
     "iopub.execute_input": "2024-10-28T09:07:25.052498Z",
     "iopub.status.busy": "2024-10-28T09:07:25.052176Z",
     "iopub.status.idle": "2024-10-28T09:07:39.262355Z",
     "shell.execute_reply": "2024-10-28T09:07:39.261534Z"
    },
    "papermill": {
     "duration": 14.218157,
     "end_time": "2024-10-28T09:07:39.264641",
     "exception": false,
     "start_time": "2024-10-28T09:07:25.046484",
     "status": "completed"
    },
    "tags": []
   },
   "outputs": [],
   "source": [
    "import os\n",
    "\n",
    "import pandas as pd\n",
    "import numpy as np\n",
    "import matplotlib.pyplot as plt\n",
    "import seaborn as sns\n",
    "\n",
    "from sklearn.model_selection import train_test_split\n",
    "\n",
    "import tensorflow as tf\n",
    "from tensorflow import keras\n",
    "from tensorflow.keras.models import Sequential\n",
    "from tensorflow.keras.optimizers import Adam, Adamax\n",
    "from tensorflow.keras.preprocessing.image import ImageDataGenerator\n",
    "from tensorflow.keras.layers import Conv2D, MaxPooling2D, Flatten, Dense, Dropout\n",
    "\n",
    "import warnings\n",
    "warnings.filterwarnings(\"ignore\")"
   ]
  },
  {
   "cell_type": "markdown",
   "id": "74758786",
   "metadata": {
    "papermill": {
     "duration": 0.004314,
     "end_time": "2024-10-28T09:07:39.273816",
     "exception": false,
     "start_time": "2024-10-28T09:07:39.269502",
     "status": "completed"
    },
    "tags": []
   },
   "source": [
    "# Data Preprocessing"
   ]
  },
  {
   "cell_type": "markdown",
   "id": "217b8454",
   "metadata": {
    "papermill": {
     "duration": 0.004247,
     "end_time": "2024-10-28T09:07:39.282538",
     "exception": false,
     "start_time": "2024-10-28T09:07:39.278291",
     "status": "completed"
    },
    "tags": []
   },
   "source": [
    "### Read data and store it in dataframe"
   ]
  },
  {
   "cell_type": "code",
   "execution_count": 2,
   "id": "06d321f4",
   "metadata": {
    "execution": {
     "iopub.execute_input": "2024-10-28T09:07:39.294074Z",
     "iopub.status.busy": "2024-10-28T09:07:39.293544Z",
     "iopub.status.idle": "2024-10-28T09:07:39.531413Z",
     "shell.execute_reply": "2024-10-28T09:07:39.530026Z"
    },
    "papermill": {
     "duration": 0.246364,
     "end_time": "2024-10-28T09:07:39.534435",
     "exception": false,
     "start_time": "2024-10-28T09:07:39.288071",
     "status": "completed"
    },
    "tags": []
   },
   "outputs": [],
   "source": [
    "train_data_dic = '/kaggle/input/brain-tumor-mri-dataset/Training'\n",
    "imagePaths = []\n",
    "labels =[]\n",
    "\n",
    "floders = os.listdir(train_data_dic)\n",
    "\n",
    "for floder in floders:\n",
    "    floderPath = os.path.join(train_data_dic, floder)\n",
    "    imageList = os.listdir(floderPath)\n",
    "    \n",
    "    for image in imageList:\n",
    "        imagePath = os.path.join(floderPath, image)\n",
    "        \n",
    "        imagePaths.append(imagePath)\n",
    "        labels.append(floder)\n",
    "        \n",
    "        \n",
    "# Concatenate image paths with labels into one dataframe\n",
    "Iseries = pd.Series(imagePaths, name= 'imagepaths')\n",
    "Lseries = pd.Series(labels, name='labels')\n",
    "\n",
    "train_df = pd.concat([Iseries, Lseries], axis= 1)"
   ]
  },
  {
   "cell_type": "code",
   "execution_count": 3,
   "id": "f67425a6",
   "metadata": {
    "execution": {
     "iopub.execute_input": "2024-10-28T09:07:39.548597Z",
     "iopub.status.busy": "2024-10-28T09:07:39.548184Z",
     "iopub.status.idle": "2024-10-28T09:07:39.569860Z",
     "shell.execute_reply": "2024-10-28T09:07:39.568912Z"
    },
    "papermill": {
     "duration": 0.031505,
     "end_time": "2024-10-28T09:07:39.572155",
     "exception": false,
     "start_time": "2024-10-28T09:07:39.540650",
     "status": "completed"
    },
    "tags": []
   },
   "outputs": [
    {
     "data": {
      "text/html": [
       "<div>\n",
       "<style scoped>\n",
       "    .dataframe tbody tr th:only-of-type {\n",
       "        vertical-align: middle;\n",
       "    }\n",
       "\n",
       "    .dataframe tbody tr th {\n",
       "        vertical-align: top;\n",
       "    }\n",
       "\n",
       "    .dataframe thead th {\n",
       "        text-align: right;\n",
       "    }\n",
       "</style>\n",
       "<table border=\"1\" class=\"dataframe\">\n",
       "  <thead>\n",
       "    <tr style=\"text-align: right;\">\n",
       "      <th></th>\n",
       "      <th>imagepaths</th>\n",
       "      <th>labels</th>\n",
       "    </tr>\n",
       "  </thead>\n",
       "  <tbody>\n",
       "    <tr>\n",
       "      <th>0</th>\n",
       "      <td>/kaggle/input/brain-tumor-mri-dataset/Training...</td>\n",
       "      <td>pituitary</td>\n",
       "    </tr>\n",
       "    <tr>\n",
       "      <th>1</th>\n",
       "      <td>/kaggle/input/brain-tumor-mri-dataset/Training...</td>\n",
       "      <td>pituitary</td>\n",
       "    </tr>\n",
       "    <tr>\n",
       "      <th>2</th>\n",
       "      <td>/kaggle/input/brain-tumor-mri-dataset/Training...</td>\n",
       "      <td>pituitary</td>\n",
       "    </tr>\n",
       "    <tr>\n",
       "      <th>3</th>\n",
       "      <td>/kaggle/input/brain-tumor-mri-dataset/Training...</td>\n",
       "      <td>pituitary</td>\n",
       "    </tr>\n",
       "    <tr>\n",
       "      <th>4</th>\n",
       "      <td>/kaggle/input/brain-tumor-mri-dataset/Training...</td>\n",
       "      <td>pituitary</td>\n",
       "    </tr>\n",
       "    <tr>\n",
       "      <th>...</th>\n",
       "      <td>...</td>\n",
       "      <td>...</td>\n",
       "    </tr>\n",
       "    <tr>\n",
       "      <th>5707</th>\n",
       "      <td>/kaggle/input/brain-tumor-mri-dataset/Training...</td>\n",
       "      <td>glioma</td>\n",
       "    </tr>\n",
       "    <tr>\n",
       "      <th>5708</th>\n",
       "      <td>/kaggle/input/brain-tumor-mri-dataset/Training...</td>\n",
       "      <td>glioma</td>\n",
       "    </tr>\n",
       "    <tr>\n",
       "      <th>5709</th>\n",
       "      <td>/kaggle/input/brain-tumor-mri-dataset/Training...</td>\n",
       "      <td>glioma</td>\n",
       "    </tr>\n",
       "    <tr>\n",
       "      <th>5710</th>\n",
       "      <td>/kaggle/input/brain-tumor-mri-dataset/Training...</td>\n",
       "      <td>glioma</td>\n",
       "    </tr>\n",
       "    <tr>\n",
       "      <th>5711</th>\n",
       "      <td>/kaggle/input/brain-tumor-mri-dataset/Training...</td>\n",
       "      <td>glioma</td>\n",
       "    </tr>\n",
       "  </tbody>\n",
       "</table>\n",
       "<p>5712 rows × 2 columns</p>\n",
       "</div>"
      ],
      "text/plain": [
       "                                             imagepaths     labels\n",
       "0     /kaggle/input/brain-tumor-mri-dataset/Training...  pituitary\n",
       "1     /kaggle/input/brain-tumor-mri-dataset/Training...  pituitary\n",
       "2     /kaggle/input/brain-tumor-mri-dataset/Training...  pituitary\n",
       "3     /kaggle/input/brain-tumor-mri-dataset/Training...  pituitary\n",
       "4     /kaggle/input/brain-tumor-mri-dataset/Training...  pituitary\n",
       "...                                                 ...        ...\n",
       "5707  /kaggle/input/brain-tumor-mri-dataset/Training...     glioma\n",
       "5708  /kaggle/input/brain-tumor-mri-dataset/Training...     glioma\n",
       "5709  /kaggle/input/brain-tumor-mri-dataset/Training...     glioma\n",
       "5710  /kaggle/input/brain-tumor-mri-dataset/Training...     glioma\n",
       "5711  /kaggle/input/brain-tumor-mri-dataset/Training...     glioma\n",
       "\n",
       "[5712 rows x 2 columns]"
      ]
     },
     "execution_count": 3,
     "metadata": {},
     "output_type": "execute_result"
    }
   ],
   "source": [
    "train_df"
   ]
  },
  {
   "cell_type": "code",
   "execution_count": 4,
   "id": "1b445b0e",
   "metadata": {
    "execution": {
     "iopub.execute_input": "2024-10-28T09:07:39.586859Z",
     "iopub.status.busy": "2024-10-28T09:07:39.585940Z",
     "iopub.status.idle": "2024-10-28T09:07:39.825632Z",
     "shell.execute_reply": "2024-10-28T09:07:39.824895Z"
    },
    "papermill": {
     "duration": 0.249848,
     "end_time": "2024-10-28T09:07:39.827682",
     "exception": false,
     "start_time": "2024-10-28T09:07:39.577834",
     "status": "completed"
    },
    "tags": []
   },
   "outputs": [],
   "source": [
    "test_data_dic = '/kaggle/input/brain-tumor-mri-dataset/Testing'\n",
    "imagePaths = []\n",
    "labels =[]\n",
    "\n",
    "floders = os.listdir(test_data_dic)\n",
    "\n",
    "for floder in floders:\n",
    "    floderPath = os.path.join(test_data_dic, floder)\n",
    "    imageList = os.listdir(floderPath)\n",
    "    \n",
    "    for image in imageList:\n",
    "        imagePath = os.path.join(floderPath, image)\n",
    "        \n",
    "        imagePaths.append(imagePath)\n",
    "        labels.append(floder)\n",
    "        \n",
    "        \n",
    "# Concatenate image paths with labels into one dataframe\n",
    "Iseries = pd.Series(imagePaths, name= 'imagepaths')\n",
    "Lseries = pd.Series(labels, name='labels')\n",
    "\n",
    "ts_df = pd.concat([Iseries, Lseries], axis= 1)"
   ]
  },
  {
   "cell_type": "code",
   "execution_count": 5,
   "id": "32108e95",
   "metadata": {
    "execution": {
     "iopub.execute_input": "2024-10-28T09:07:39.838682Z",
     "iopub.status.busy": "2024-10-28T09:07:39.838378Z",
     "iopub.status.idle": "2024-10-28T09:07:39.849280Z",
     "shell.execute_reply": "2024-10-28T09:07:39.848386Z"
    },
    "papermill": {
     "duration": 0.018532,
     "end_time": "2024-10-28T09:07:39.851249",
     "exception": false,
     "start_time": "2024-10-28T09:07:39.832717",
     "status": "completed"
    },
    "tags": []
   },
   "outputs": [
    {
     "data": {
      "text/html": [
       "<div>\n",
       "<style scoped>\n",
       "    .dataframe tbody tr th:only-of-type {\n",
       "        vertical-align: middle;\n",
       "    }\n",
       "\n",
       "    .dataframe tbody tr th {\n",
       "        vertical-align: top;\n",
       "    }\n",
       "\n",
       "    .dataframe thead th {\n",
       "        text-align: right;\n",
       "    }\n",
       "</style>\n",
       "<table border=\"1\" class=\"dataframe\">\n",
       "  <thead>\n",
       "    <tr style=\"text-align: right;\">\n",
       "      <th></th>\n",
       "      <th>imagepaths</th>\n",
       "      <th>labels</th>\n",
       "    </tr>\n",
       "  </thead>\n",
       "  <tbody>\n",
       "    <tr>\n",
       "      <th>0</th>\n",
       "      <td>/kaggle/input/brain-tumor-mri-dataset/Testing/...</td>\n",
       "      <td>pituitary</td>\n",
       "    </tr>\n",
       "    <tr>\n",
       "      <th>1</th>\n",
       "      <td>/kaggle/input/brain-tumor-mri-dataset/Testing/...</td>\n",
       "      <td>pituitary</td>\n",
       "    </tr>\n",
       "    <tr>\n",
       "      <th>2</th>\n",
       "      <td>/kaggle/input/brain-tumor-mri-dataset/Testing/...</td>\n",
       "      <td>pituitary</td>\n",
       "    </tr>\n",
       "    <tr>\n",
       "      <th>3</th>\n",
       "      <td>/kaggle/input/brain-tumor-mri-dataset/Testing/...</td>\n",
       "      <td>pituitary</td>\n",
       "    </tr>\n",
       "    <tr>\n",
       "      <th>4</th>\n",
       "      <td>/kaggle/input/brain-tumor-mri-dataset/Testing/...</td>\n",
       "      <td>pituitary</td>\n",
       "    </tr>\n",
       "    <tr>\n",
       "      <th>...</th>\n",
       "      <td>...</td>\n",
       "      <td>...</td>\n",
       "    </tr>\n",
       "    <tr>\n",
       "      <th>1306</th>\n",
       "      <td>/kaggle/input/brain-tumor-mri-dataset/Testing/...</td>\n",
       "      <td>glioma</td>\n",
       "    </tr>\n",
       "    <tr>\n",
       "      <th>1307</th>\n",
       "      <td>/kaggle/input/brain-tumor-mri-dataset/Testing/...</td>\n",
       "      <td>glioma</td>\n",
       "    </tr>\n",
       "    <tr>\n",
       "      <th>1308</th>\n",
       "      <td>/kaggle/input/brain-tumor-mri-dataset/Testing/...</td>\n",
       "      <td>glioma</td>\n",
       "    </tr>\n",
       "    <tr>\n",
       "      <th>1309</th>\n",
       "      <td>/kaggle/input/brain-tumor-mri-dataset/Testing/...</td>\n",
       "      <td>glioma</td>\n",
       "    </tr>\n",
       "    <tr>\n",
       "      <th>1310</th>\n",
       "      <td>/kaggle/input/brain-tumor-mri-dataset/Testing/...</td>\n",
       "      <td>glioma</td>\n",
       "    </tr>\n",
       "  </tbody>\n",
       "</table>\n",
       "<p>1311 rows × 2 columns</p>\n",
       "</div>"
      ],
      "text/plain": [
       "                                             imagepaths     labels\n",
       "0     /kaggle/input/brain-tumor-mri-dataset/Testing/...  pituitary\n",
       "1     /kaggle/input/brain-tumor-mri-dataset/Testing/...  pituitary\n",
       "2     /kaggle/input/brain-tumor-mri-dataset/Testing/...  pituitary\n",
       "3     /kaggle/input/brain-tumor-mri-dataset/Testing/...  pituitary\n",
       "4     /kaggle/input/brain-tumor-mri-dataset/Testing/...  pituitary\n",
       "...                                                 ...        ...\n",
       "1306  /kaggle/input/brain-tumor-mri-dataset/Testing/...     glioma\n",
       "1307  /kaggle/input/brain-tumor-mri-dataset/Testing/...     glioma\n",
       "1308  /kaggle/input/brain-tumor-mri-dataset/Testing/...     glioma\n",
       "1309  /kaggle/input/brain-tumor-mri-dataset/Testing/...     glioma\n",
       "1310  /kaggle/input/brain-tumor-mri-dataset/Testing/...     glioma\n",
       "\n",
       "[1311 rows x 2 columns]"
      ]
     },
     "execution_count": 5,
     "metadata": {},
     "output_type": "execute_result"
    }
   ],
   "source": [
    "ts_df"
   ]
  },
  {
   "cell_type": "markdown",
   "id": "4d5c17fa",
   "metadata": {
    "papermill": {
     "duration": 0.004747,
     "end_time": "2024-10-28T09:07:39.861124",
     "exception": false,
     "start_time": "2024-10-28T09:07:39.856377",
     "status": "completed"
    },
    "tags": []
   },
   "source": [
    "### Split dataframe into train, valid, and test"
   ]
  },
  {
   "cell_type": "code",
   "execution_count": 6,
   "id": "f78aa8e6",
   "metadata": {
    "execution": {
     "iopub.execute_input": "2024-10-28T09:07:39.872936Z",
     "iopub.status.busy": "2024-10-28T09:07:39.872124Z",
     "iopub.status.idle": "2024-10-28T09:07:39.878707Z",
     "shell.execute_reply": "2024-10-28T09:07:39.878020Z"
    },
    "papermill": {
     "duration": 0.01435,
     "end_time": "2024-10-28T09:07:39.880545",
     "exception": false,
     "start_time": "2024-10-28T09:07:39.866195",
     "status": "completed"
    },
    "tags": []
   },
   "outputs": [],
   "source": [
    "test_df , valid_df = train_test_split(ts_df, test_size=0.5, shuffle=True, random_state=123)"
   ]
  },
  {
   "cell_type": "markdown",
   "id": "e00a3c48",
   "metadata": {
    "papermill": {
     "duration": 0.004806,
     "end_time": "2024-10-28T09:07:39.890502",
     "exception": false,
     "start_time": "2024-10-28T09:07:39.885696",
     "status": "completed"
    },
    "tags": []
   },
   "source": [
    "### Create image data generator"
   ]
  },
  {
   "cell_type": "code",
   "execution_count": 7,
   "id": "87f05cda",
   "metadata": {
    "execution": {
     "iopub.execute_input": "2024-10-28T09:07:39.901655Z",
     "iopub.status.busy": "2024-10-28T09:07:39.901367Z",
     "iopub.status.idle": "2024-10-28T09:07:41.575577Z",
     "shell.execute_reply": "2024-10-28T09:07:41.574657Z"
    },
    "papermill": {
     "duration": 1.682018,
     "end_time": "2024-10-28T09:07:41.577594",
     "exception": false,
     "start_time": "2024-10-28T09:07:39.895576",
     "status": "completed"
    },
    "tags": []
   },
   "outputs": [
    {
     "name": "stdout",
     "output_type": "stream",
     "text": [
      "Found 5712 validated image filenames belonging to 4 classes.\n",
      "Found 656 validated image filenames belonging to 4 classes.\n",
      "Found 655 validated image filenames belonging to 4 classes.\n"
     ]
    }
   ],
   "source": [
    "img_size = (224, 224)\n",
    "batch_size = 16\n",
    "\n",
    "tr_gen = ImageDataGenerator()\n",
    "ts_gen = ImageDataGenerator()\n",
    "\n",
    "train_gen = tr_gen.flow_from_dataframe(train_df , x_col=\"imagepaths\" , y_col=\"labels\", target_size=img_size , batch_size=batch_size , \n",
    "                                       class_mode=\"categorical\", color_mode= 'rgb' , shuffle= True)\n",
    "\n",
    "valid_gen = ts_gen.flow_from_dataframe(valid_df , x_col=\"imagepaths\" , y_col=\"labels\", target_size=img_size , batch_size=batch_size , \n",
    "                                       class_mode=\"categorical\", color_mode= 'rgb' , shuffle= True)\n",
    "\n",
    "test_gen = ts_gen.flow_from_dataframe(test_df , x_col=\"imagepaths\" , y_col=\"labels\", target_size=img_size , batch_size=batch_size , \n",
    "                                       class_mode=\"categorical\", color_mode= 'rgb' , shuffle= True)"
   ]
  },
  {
   "cell_type": "markdown",
   "id": "710b30ef",
   "metadata": {
    "papermill": {
     "duration": 0.005299,
     "end_time": "2024-10-28T09:07:41.588356",
     "exception": false,
     "start_time": "2024-10-28T09:07:41.583057",
     "status": "completed"
    },
    "tags": []
   },
   "source": [
    "# Model Structure"
   ]
  },
  {
   "cell_type": "code",
   "execution_count": 8,
   "id": "cf45e0ad",
   "metadata": {
    "execution": {
     "iopub.execute_input": "2024-10-28T09:07:41.600032Z",
     "iopub.status.busy": "2024-10-28T09:07:41.599734Z",
     "iopub.status.idle": "2024-10-28T09:07:45.447457Z",
     "shell.execute_reply": "2024-10-28T09:07:45.446568Z"
    },
    "papermill": {
     "duration": 3.855968,
     "end_time": "2024-10-28T09:07:45.449544",
     "exception": false,
     "start_time": "2024-10-28T09:07:41.593576",
     "status": "completed"
    },
    "tags": []
   },
   "outputs": [
    {
     "name": "stdout",
     "output_type": "stream",
     "text": [
      "Downloading data from https://storage.googleapis.com/keras-applications/efficientnetb4_notop.h5\n",
      "\u001b[1m71686520/71686520\u001b[0m \u001b[32m━━━━━━━━━━━━━━━━━━━━\u001b[0m\u001b[37m\u001b[0m \u001b[1m0s\u001b[0m 0us/step\n"
     ]
    },
    {
     "data": {
      "text/html": [
       "<pre style=\"white-space:pre;overflow-x:auto;line-height:normal;font-family:Menlo,'DejaVu Sans Mono',consolas,'Courier New',monospace\"><span style=\"font-weight: bold\">Model: \"sequential\"</span>\n",
       "</pre>\n"
      ],
      "text/plain": [
       "\u001b[1mModel: \"sequential\"\u001b[0m\n"
      ]
     },
     "metadata": {},
     "output_type": "display_data"
    },
    {
     "data": {
      "text/html": [
       "<pre style=\"white-space:pre;overflow-x:auto;line-height:normal;font-family:Menlo,'DejaVu Sans Mono',consolas,'Courier New',monospace\">┏━━━━━━━━━━━━━━━━━━━━━━━━━━━━━━━━━┳━━━━━━━━━━━━━━━━━━━━━━━━┳━━━━━━━━━━━━━━━┓\n",
       "┃<span style=\"font-weight: bold\"> Layer (type)                    </span>┃<span style=\"font-weight: bold\"> Output Shape           </span>┃<span style=\"font-weight: bold\">       Param # </span>┃\n",
       "┡━━━━━━━━━━━━━━━━━━━━━━━━━━━━━━━━━╇━━━━━━━━━━━━━━━━━━━━━━━━╇━━━━━━━━━━━━━━━┩\n",
       "│ efficientnetb4 (<span style=\"color: #0087ff; text-decoration-color: #0087ff\">Functional</span>)     │ ?                      │    <span style=\"color: #00af00; text-decoration-color: #00af00\">17,673,823</span> │\n",
       "├─────────────────────────────────┼────────────────────────┼───────────────┤\n",
       "│ dense (<span style=\"color: #0087ff; text-decoration-color: #0087ff\">Dense</span>)                   │ ?                      │   <span style=\"color: #00af00; text-decoration-color: #00af00\">0</span> (unbuilt) │\n",
       "├─────────────────────────────────┼────────────────────────┼───────────────┤\n",
       "│ dropout (<span style=\"color: #0087ff; text-decoration-color: #0087ff\">Dropout</span>)               │ ?                      │   <span style=\"color: #00af00; text-decoration-color: #00af00\">0</span> (unbuilt) │\n",
       "├─────────────────────────────────┼────────────────────────┼───────────────┤\n",
       "│ dense_1 (<span style=\"color: #0087ff; text-decoration-color: #0087ff\">Dense</span>)                 │ ?                      │   <span style=\"color: #00af00; text-decoration-color: #00af00\">0</span> (unbuilt) │\n",
       "└─────────────────────────────────┴────────────────────────┴───────────────┘\n",
       "</pre>\n"
      ],
      "text/plain": [
       "┏━━━━━━━━━━━━━━━━━━━━━━━━━━━━━━━━━┳━━━━━━━━━━━━━━━━━━━━━━━━┳━━━━━━━━━━━━━━━┓\n",
       "┃\u001b[1m \u001b[0m\u001b[1mLayer (type)                   \u001b[0m\u001b[1m \u001b[0m┃\u001b[1m \u001b[0m\u001b[1mOutput Shape          \u001b[0m\u001b[1m \u001b[0m┃\u001b[1m \u001b[0m\u001b[1m      Param #\u001b[0m\u001b[1m \u001b[0m┃\n",
       "┡━━━━━━━━━━━━━━━━━━━━━━━━━━━━━━━━━╇━━━━━━━━━━━━━━━━━━━━━━━━╇━━━━━━━━━━━━━━━┩\n",
       "│ efficientnetb4 (\u001b[38;5;33mFunctional\u001b[0m)     │ ?                      │    \u001b[38;5;34m17,673,823\u001b[0m │\n",
       "├─────────────────────────────────┼────────────────────────┼───────────────┤\n",
       "│ dense (\u001b[38;5;33mDense\u001b[0m)                   │ ?                      │   \u001b[38;5;34m0\u001b[0m (unbuilt) │\n",
       "├─────────────────────────────────┼────────────────────────┼───────────────┤\n",
       "│ dropout (\u001b[38;5;33mDropout\u001b[0m)               │ ?                      │   \u001b[38;5;34m0\u001b[0m (unbuilt) │\n",
       "├─────────────────────────────────┼────────────────────────┼───────────────┤\n",
       "│ dense_1 (\u001b[38;5;33mDense\u001b[0m)                 │ ?                      │   \u001b[38;5;34m0\u001b[0m (unbuilt) │\n",
       "└─────────────────────────────────┴────────────────────────┴───────────────┘\n"
      ]
     },
     "metadata": {},
     "output_type": "display_data"
    },
    {
     "data": {
      "text/html": [
       "<pre style=\"white-space:pre;overflow-x:auto;line-height:normal;font-family:Menlo,'DejaVu Sans Mono',consolas,'Courier New',monospace\"><span style=\"font-weight: bold\"> Total params: </span><span style=\"color: #00af00; text-decoration-color: #00af00\">17,673,823</span> (67.42 MB)\n",
       "</pre>\n"
      ],
      "text/plain": [
       "\u001b[1m Total params: \u001b[0m\u001b[38;5;34m17,673,823\u001b[0m (67.42 MB)\n"
      ]
     },
     "metadata": {},
     "output_type": "display_data"
    },
    {
     "data": {
      "text/html": [
       "<pre style=\"white-space:pre;overflow-x:auto;line-height:normal;font-family:Menlo,'DejaVu Sans Mono',consolas,'Courier New',monospace\"><span style=\"font-weight: bold\"> Trainable params: </span><span style=\"color: #00af00; text-decoration-color: #00af00\">17,548,616</span> (66.94 MB)\n",
       "</pre>\n"
      ],
      "text/plain": [
       "\u001b[1m Trainable params: \u001b[0m\u001b[38;5;34m17,548,616\u001b[0m (66.94 MB)\n"
      ]
     },
     "metadata": {},
     "output_type": "display_data"
    },
    {
     "data": {
      "text/html": [
       "<pre style=\"white-space:pre;overflow-x:auto;line-height:normal;font-family:Menlo,'DejaVu Sans Mono',consolas,'Courier New',monospace\"><span style=\"font-weight: bold\"> Non-trainable params: </span><span style=\"color: #00af00; text-decoration-color: #00af00\">125,207</span> (489.09 KB)\n",
       "</pre>\n"
      ],
      "text/plain": [
       "\u001b[1m Non-trainable params: \u001b[0m\u001b[38;5;34m125,207\u001b[0m (489.09 KB)\n"
      ]
     },
     "metadata": {},
     "output_type": "display_data"
    }
   ],
   "source": [
    "img_shape = (224, 224, 3)\n",
    "class_count = 4\n",
    "\n",
    "base_model = tf.keras.applications.EfficientNetB4(\n",
    "            include_top=False,\n",
    "            weights=\"imagenet\",\n",
    "            input_shape=img_shape,\n",
    "            pooling='max'\n",
    "            )\n",
    "\n",
    "model = Sequential([\n",
    "    base_model,\n",
    "    Dense(256, activation= 'relu'),\n",
    "    Dropout(rate= 0.45, seed= 123),\n",
    "    Dense(class_count, activation= 'softmax')\n",
    "])\n",
    "\n",
    "model.compile(Adamax(learning_rate= 0.001), loss= 'categorical_crossentropy', metrics= ['accuracy'])\n",
    "\n",
    "model.summary()"
   ]
  },
  {
   "cell_type": "code",
   "execution_count": 9,
   "id": "9f8867da",
   "metadata": {
    "execution": {
     "iopub.execute_input": "2024-10-28T09:07:45.464407Z",
     "iopub.status.busy": "2024-10-28T09:07:45.464065Z",
     "iopub.status.idle": "2024-10-28T09:21:01.726142Z",
     "shell.execute_reply": "2024-10-28T09:21:01.725202Z"
    },
    "papermill": {
     "duration": 796.569598,
     "end_time": "2024-10-28T09:21:02.026135",
     "exception": false,
     "start_time": "2024-10-28T09:07:45.456537",
     "status": "completed"
    },
    "tags": []
   },
   "outputs": [
    {
     "name": "stdout",
     "output_type": "stream",
     "text": [
      "Epoch 1/10\n"
     ]
    },
    {
     "name": "stderr",
     "output_type": "stream",
     "text": [
      "WARNING: All log messages before absl::InitializeLog() is called are written to STDERR\n",
      "I0000 00:00:1730106529.291359      65 service.cc:145] XLA service 0x7ff2ac0247a0 initialized for platform CUDA (this does not guarantee that XLA will be used). Devices:\n",
      "I0000 00:00:1730106529.291426      65 service.cc:153]   StreamExecutor device (0): Tesla P100-PCIE-16GB, Compute Capability 6.0\n",
      "I0000 00:00:1730106643.013891      65 device_compiler.h:188] Compiled cluster using XLA!  This line is logged at most once for the lifetime of the process.\n"
     ]
    },
    {
     "name": "stdout",
     "output_type": "stream",
     "text": [
      "\u001b[1m357/357\u001b[0m \u001b[32m━━━━━━━━━━━━━━━━━━━━\u001b[0m\u001b[37m\u001b[0m \u001b[1m248s\u001b[0m 199ms/step - accuracy: 0.7595 - loss: 1.4629 - val_accuracy: 0.8034 - val_loss: 0.6149\n",
      "Epoch 2/10\n",
      "\u001b[1m357/357\u001b[0m \u001b[32m━━━━━━━━━━━━━━━━━━━━\u001b[0m\u001b[37m\u001b[0m \u001b[1m61s\u001b[0m 171ms/step - accuracy: 0.9386 - loss: 0.1661 - val_accuracy: 0.9634 - val_loss: 0.1056\n",
      "Epoch 3/10\n",
      "\u001b[1m357/357\u001b[0m \u001b[32m━━━━━━━━━━━━━━━━━━━━\u001b[0m\u001b[37m\u001b[0m \u001b[1m61s\u001b[0m 170ms/step - accuracy: 0.9723 - loss: 0.0900 - val_accuracy: 0.9848 - val_loss: 0.0445\n",
      "Epoch 4/10\n",
      "\u001b[1m357/357\u001b[0m \u001b[32m━━━━━━━━━━━━━━━━━━━━\u001b[0m\u001b[37m\u001b[0m \u001b[1m61s\u001b[0m 170ms/step - accuracy: 0.9853 - loss: 0.0490 - val_accuracy: 0.9924 - val_loss: 0.0181\n",
      "Epoch 5/10\n",
      "\u001b[1m357/357\u001b[0m \u001b[32m━━━━━━━━━━━━━━━━━━━━\u001b[0m\u001b[37m\u001b[0m \u001b[1m61s\u001b[0m 170ms/step - accuracy: 0.9873 - loss: 0.0331 - val_accuracy: 0.9893 - val_loss: 0.0346\n",
      "Epoch 6/10\n",
      "\u001b[1m357/357\u001b[0m \u001b[32m━━━━━━━━━━━━━━━━━━━━\u001b[0m\u001b[37m\u001b[0m \u001b[1m61s\u001b[0m 170ms/step - accuracy: 0.9835 - loss: 0.0499 - val_accuracy: 0.9924 - val_loss: 0.0145\n",
      "Epoch 7/10\n",
      "\u001b[1m357/357\u001b[0m \u001b[32m━━━━━━━━━━━━━━━━━━━━\u001b[0m\u001b[37m\u001b[0m \u001b[1m61s\u001b[0m 170ms/step - accuracy: 0.9913 - loss: 0.0291 - val_accuracy: 0.9863 - val_loss: 0.0340\n",
      "Epoch 8/10\n",
      "\u001b[1m357/357\u001b[0m \u001b[32m━━━━━━━━━━━━━━━━━━━━\u001b[0m\u001b[37m\u001b[0m \u001b[1m61s\u001b[0m 170ms/step - accuracy: 0.9911 - loss: 0.0315 - val_accuracy: 0.9893 - val_loss: 0.0364\n",
      "Epoch 9/10\n",
      "\u001b[1m357/357\u001b[0m \u001b[32m━━━━━━━━━━━━━━━━━━━━\u001b[0m\u001b[37m\u001b[0m \u001b[1m61s\u001b[0m 170ms/step - accuracy: 0.9976 - loss: 0.0114 - val_accuracy: 0.9970 - val_loss: 0.0354\n",
      "Epoch 10/10\n",
      "\u001b[1m357/357\u001b[0m \u001b[32m━━━━━━━━━━━━━━━━━━━━\u001b[0m\u001b[37m\u001b[0m \u001b[1m61s\u001b[0m 170ms/step - accuracy: 0.9957 - loss: 0.0136 - val_accuracy: 0.9954 - val_loss: 0.0138\n"
     ]
    }
   ],
   "source": [
    "epochs = 10 \n",
    "\n",
    "history = model.fit(train_gen, epochs= epochs, verbose= 1, validation_data= valid_gen, shuffle= False)"
   ]
  },
  {
   "cell_type": "markdown",
   "id": "47074ce8",
   "metadata": {
    "papermill": {
     "duration": 0.286066,
     "end_time": "2024-10-28T09:21:02.649140",
     "exception": false,
     "start_time": "2024-10-28T09:21:02.363074",
     "status": "completed"
    },
    "tags": []
   },
   "source": [
    "# Evaluate model"
   ]
  },
  {
   "cell_type": "code",
   "execution_count": 10,
   "id": "dae1fc1b",
   "metadata": {
    "execution": {
     "iopub.execute_input": "2024-10-28T09:21:03.224663Z",
     "iopub.status.busy": "2024-10-28T09:21:03.223700Z",
     "iopub.status.idle": "2024-10-28T09:21:30.329494Z",
     "shell.execute_reply": "2024-10-28T09:21:30.328531Z"
    },
    "papermill": {
     "duration": 27.395801,
     "end_time": "2024-10-28T09:21:30.331388",
     "exception": false,
     "start_time": "2024-10-28T09:21:02.935587",
     "status": "completed"
    },
    "tags": []
   },
   "outputs": [
    {
     "name": "stdout",
     "output_type": "stream",
     "text": [
      "\u001b[1m357/357\u001b[0m \u001b[32m━━━━━━━━━━━━━━━━━━━━\u001b[0m\u001b[37m\u001b[0m \u001b[1m15s\u001b[0m 43ms/step - accuracy: 0.9995 - loss: 8.4101e-04\n",
      "\u001b[1m41/41\u001b[0m \u001b[32m━━━━━━━━━━━━━━━━━━━━\u001b[0m\u001b[37m\u001b[0m \u001b[1m2s\u001b[0m 40ms/step - accuracy: 0.9984 - loss: 0.0059\n",
      "\u001b[1m41/41\u001b[0m \u001b[32m━━━━━━━━━━━━━━━━━━━━\u001b[0m\u001b[37m\u001b[0m \u001b[1m10s\u001b[0m 240ms/step - accuracy: 0.9914 - loss: 0.0372\n",
      "Train Loss:  0.0011237376602366567\n",
      "Train Accuracy:  0.9994747638702393\n",
      "--------------------\n",
      "Validation Loss:  0.013826610520482063\n",
      "Validation Accuracy:  0.9954268336296082\n",
      "--------------------\n",
      "Test Loss:  0.05953894555568695\n",
      "Test Accuracy:  0.9923664331436157\n"
     ]
    }
   ],
   "source": [
    "train_score = model.evaluate(train_gen, verbose= 1)\n",
    "valid_score = model.evaluate(valid_gen, verbose= 1)\n",
    "test_score = model.evaluate(test_gen, verbose= 1)\n",
    "\n",
    "print(\"Train Loss: \", train_score[0])\n",
    "print(\"Train Accuracy: \", train_score[1])\n",
    "print('-' * 20)\n",
    "print(\"Validation Loss: \", valid_score[0])\n",
    "print(\"Validation Accuracy: \", valid_score[1])\n",
    "print('-' * 20)\n",
    "print(\"Test Loss: \", test_score[0])\n",
    "print(\"Test Accuracy: \", test_score[1])"
   ]
  }
 ],
 "metadata": {
  "kaggle": {
   "accelerator": "gpu",
   "dataSources": [
    {
     "datasetId": 1608934,
     "sourceId": 2645886,
     "sourceType": "datasetVersion"
    }
   ],
   "dockerImageVersionId": 30787,
   "isGpuEnabled": true,
   "isInternetEnabled": true,
   "language": "python",
   "sourceType": "notebook"
  },
  "kernelspec": {
   "display_name": "Python 3",
   "language": "python",
   "name": "python3"
  },
  "language_info": {
   "codemirror_mode": {
    "name": "ipython",
    "version": 3
   },
   "file_extension": ".py",
   "mimetype": "text/x-python",
   "name": "python",
   "nbconvert_exporter": "python",
   "pygments_lexer": "ipython3",
   "version": "3.10.14"
  },
  "papermill": {
   "default_parameters": {},
   "duration": 852.074197,
   "end_time": "2024-10-28T09:21:34.379875",
   "environment_variables": {},
   "exception": null,
   "input_path": "__notebook__.ipynb",
   "output_path": "__notebook__.ipynb",
   "parameters": {},
   "start_time": "2024-10-28T09:07:22.305678",
   "version": "2.6.0"
  }
 },
 "nbformat": 4,
 "nbformat_minor": 5
}
